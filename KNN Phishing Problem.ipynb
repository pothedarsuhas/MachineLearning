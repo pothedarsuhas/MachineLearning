{
 "cells": [
  {
   "cell_type": "code",
   "execution_count": 6,
   "metadata": {},
   "outputs": [],
   "source": [
    "from sklearn.neighbors import KNeighborsClassifier\n",
    "import numpy as np\n",
    "import pandas as pd"
   ]
  },
  {
   "cell_type": "code",
   "execution_count": 7,
   "metadata": {},
   "outputs": [],
   "source": [
    "p = pd.read_csv(\"phishing.csv\") "
   ]
  },
  {
   "cell_type": "code",
   "execution_count": 10,
   "metadata": {},
   "outputs": [
    {
     "name": "stdout",
     "output_type": "stream",
     "text": [
      "<class 'pandas.core.frame.DataFrame'>\n",
      "RangeIndex: 11054 entries, 0 to 11053\n",
      "Data columns (total 31 columns):\n",
      "-1       11054 non-null int64\n",
      "1        11054 non-null int64\n",
      "1.1      11054 non-null int64\n",
      "1.2      11054 non-null int64\n",
      "-1.1     11054 non-null int64\n",
      "-1.2     11054 non-null int64\n",
      "-1.3     11054 non-null int64\n",
      "-1.4     11054 non-null int64\n",
      "-1.5     11054 non-null int64\n",
      "1.3      11054 non-null int64\n",
      "1.4      11054 non-null int64\n",
      "-1.6     11054 non-null int64\n",
      "1.5      11054 non-null int64\n",
      "-1.7     11054 non-null int64\n",
      "1.6      11054 non-null int64\n",
      "-1.8     11054 non-null int64\n",
      "-1.9     11054 non-null int64\n",
      "-1.10    11054 non-null int64\n",
      "0        11054 non-null int64\n",
      "1.7      11054 non-null int64\n",
      "1.8      11054 non-null int64\n",
      "1.9      11054 non-null int64\n",
      "1.10     11054 non-null int64\n",
      "-1.11    11054 non-null int64\n",
      "-1.12    11054 non-null int64\n",
      "-1.13    11054 non-null int64\n",
      "-1.14    11054 non-null int64\n",
      "1.11     11054 non-null int64\n",
      "1.12     11054 non-null int64\n",
      "-1.15    11054 non-null int64\n",
      "-1.16    11054 non-null int64\n",
      "dtypes: int64(31)\n",
      "memory usage: 2.6 MB\n",
      "<class 'pandas.core.frame.DataFrame'>\n"
     ]
    }
   ],
   "source": [
    "p.info()\n",
    "print(type(p))"
   ]
  },
  {
   "cell_type": "code",
   "execution_count": 17,
   "metadata": {},
   "outputs": [
    {
     "name": "stdout",
     "output_type": "stream",
     "text": [
      "[[ 1  1  1 ...  1  1  1]\n",
      " [ 1  0  1 ...  1  0 -1]\n",
      " [ 1  0  1 ...  1 -1  1]\n",
      " ...\n",
      " [ 1 -1  1 ...  1  0  1]\n",
      " [-1 -1  1 ...  1  1  1]\n",
      " [-1 -1  1 ... -1  1 -1]]\n",
      "0       -1\n",
      "1       -1\n",
      "2       -1\n",
      "3        1\n",
      "4        1\n",
      "5       -1\n",
      "6       -1\n",
      "7        1\n",
      "8       -1\n",
      "9        1\n",
      "10      -1\n",
      "11      -1\n",
      "12      -1\n",
      "13       1\n",
      "14      -1\n",
      "15      -1\n",
      "16      -1\n",
      "17       1\n",
      "18       1\n",
      "19       1\n",
      "20       1\n",
      "21       1\n",
      "22       1\n",
      "23       1\n",
      "24       1\n",
      "25      -1\n",
      "26       1\n",
      "27       1\n",
      "28       1\n",
      "29       1\n",
      "        ..\n",
      "11024    1\n",
      "11025    1\n",
      "11026    1\n",
      "11027    1\n",
      "11028   -1\n",
      "11029   -1\n",
      "11030    1\n",
      "11031   -1\n",
      "11032    1\n",
      "11033   -1\n",
      "11034    1\n",
      "11035    1\n",
      "11036   -1\n",
      "11037   -1\n",
      "11038   -1\n",
      "11039   -1\n",
      "11040    1\n",
      "11041    1\n",
      "11042   -1\n",
      "11043    1\n",
      "11044    1\n",
      "11045    1\n",
      "11046   -1\n",
      "11047    1\n",
      "11048   -1\n",
      "11049    1\n",
      "11050   -1\n",
      "11051   -1\n",
      "11052   -1\n",
      "11053   -1\n",
      "Name: Result, Length: 11054, dtype: int64\n"
     ]
    }
   ],
   "source": [
    "p.columns = ['having_IPhaving_IP_Address',\n",
    "'URLURL_Length',\n",
    "'Shortining_Service',\n",
    "'having_At_Symbol',\n",
    "'double_slash_redirecting',\n",
    "'Prefix_Suffix',\n",
    "'having_Sub_Domain',\n",
    "'SSLfinal_State',\n",
    "'Domain_registeration_length',\n",
    "'Favicon',\n",
    "'port',\n",
    "'HTTPS_token',\n",
    "'Request_URL',\n",
    "'URL_of_Anchor',\n",
    "'Links_in_tags',\n",
    "'SFH',\n",
    "'Submitting_to_email',\n",
    "'Abnormal_URL',\n",
    "'Redirect',\n",
    "'on_mouseover',\n",
    "'RightClick',\n",
    "'popUpWidnow',\n",
    "'Iframe',\n",
    "'age_of_domain',\n",
    "'DNSRecord',\n",
    "'web_traffic',\n",
    "'Page_Rank',\n",
    "'Google_Index',\n",
    "'Links_pointing_to_page',\n",
    "'Statistical_report',\n",
    "'Result']\n",
    "target = p[\"Result\"].T\n",
    "\n",
    "data = p.drop('Result', axis = 1).values\n",
    "\n",
    "\n",
    "print(data)\n",
    "print(target)\n"
   ]
  },
  {
   "cell_type": "code",
   "execution_count": 21,
   "metadata": {},
   "outputs": [],
   "source": [
    "from sklearn.model_selection import train_test_split"
   ]
  },
  {
   "cell_type": "code",
   "execution_count": 23,
   "metadata": {},
   "outputs": [],
   "source": [
    "X_train, X_test, y_train, y_test =train_test_split(data, target, test_size=0.3,random_state=21, stratify=target)"
   ]
  },
  {
   "cell_type": "code",
   "execution_count": 24,
   "metadata": {},
   "outputs": [],
   "source": [
    "knn = KNeighborsClassifier(n_neighbors = 5)"
   ]
  },
  {
   "cell_type": "code",
   "execution_count": 33,
   "metadata": {},
   "outputs": [
    {
     "name": "stdout",
     "output_type": "stream",
     "text": [
      "Test set predictions:\n",
      " [ 1 -1 -1 ... -1 -1  1]\n",
      "accuracy:  0.9529695507989147\n"
     ]
    }
   ],
   "source": [
    "knn.fit(X_train, y_train)\n",
    "y_pred = knn.predict(X_test)\n",
    "print(\"Test set predictions:\\n {}\".format(y_pred))\n",
    "print(\"accuracy: \",knn.score(X_test, y_test))"
   ]
  },
  {
   "cell_type": "code",
   "execution_count": 35,
   "metadata": {},
   "outputs": [
    {
     "data": {
      "text/plain": [
       "3317"
      ]
     },
     "execution_count": 35,
     "metadata": {},
     "output_type": "execute_result"
    }
   ],
   "source": [
    "len(X_test)"
   ]
  },
  {
   "cell_type": "code",
   "execution_count": 45,
   "metadata": {},
   "outputs": [
    {
     "name": "stdout",
     "output_type": "stream",
     "text": [
      "(array([0]),)\n"
     ]
    },
    {
     "name": "stderr",
     "output_type": "stream",
     "text": [
      "/anaconda3/lib/python3.7/site-packages/ipykernel_launcher.py:3: DeprecationWarning: elementwise != comparison failed; this will raise an error in the future.\n",
      "  This is separate from the ipykernel package so we can avoid doing imports until\n"
     ]
    }
   ],
   "source": [
    "y_test = np.asarray(y_test)\n",
    "X_test = np.asarray(X_test)\n",
    "misclassified = np.where(y_test != X_test)\n",
    "print(misclassified)"
   ]
  },
  {
   "cell_type": "code",
   "execution_count": null,
   "metadata": {},
   "outputs": [],
   "source": []
  }
 ],
 "metadata": {
  "kernelspec": {
   "display_name": "Python 3",
   "language": "python",
   "name": "python3"
  },
  "language_info": {
   "codemirror_mode": {
    "name": "ipython",
    "version": 3
   },
   "file_extension": ".py",
   "mimetype": "text/x-python",
   "name": "python",
   "nbconvert_exporter": "python",
   "pygments_lexer": "ipython3",
   "version": "3.7.0"
  }
 },
 "nbformat": 4,
 "nbformat_minor": 2
}
